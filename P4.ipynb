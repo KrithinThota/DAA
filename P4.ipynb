{
 "cells": [
  {
   "cell_type": "code",
   "execution_count": null,
   "metadata": {},
   "outputs": [],
   "source": [
    "def fractional_knapsack(items, capacity):\n",
    "    items.sort(key=lambda x: x[0] / x[1], reverse=True)\n",
    "    \n",
    "    total_value = 0\n",
    "    knapsack = []\n",
    "\n",
    "    for value, weight in items:\n",
    "        if weight <= capacity:\n",
    "            knapsack.append((value, weight))\n",
    "            total_value += value\n",
    "            capacity -= weight\n",
    "        else:\n",
    "            fraction = capacity / weight\n",
    "            knapsack.append((value * fraction, weight * fraction))\n",
    "            total_value += value * fraction\n",
    "            break\n",
    "\n",
    "    return total_value, knapsack\n",
    "\n",
    "items = [(15, 1), (25, 5), (40, 4)]\n",
    "capacity = 8\n",
    "optimal_value, optimal_knapsack = fractional_knapsack(items, capacity)\n",
    "\n",
    "print(\"Optimal value:\", optimal_value)\n",
    "print(\"Optimal knapsack contents:\")\n",
    "for value, weight in optimal_knapsack:\n",
    "    print(\"Value:\", value, \" Weight:\", weight)\n"
   ]
  },
  {
   "cell_type": "code",
   "execution_count": null,
   "metadata": {},
   "outputs": [],
   "source": [
    "def maximize_sum(arr):\n",
    "    arr.sort()\n",
    "    max_sum = sum(arr[i] * i for i in range(len(arr)))\n",
    "    return max_sum\n",
    "\n",
    "arr = [3,7,4,7,8,9]\n",
    "maximized_sum = maximize_sum(arr)\n",
    "print(\"Maximum sum:\", maximized_sum)\n"
   ]
  },
  {
   "cell_type": "code",
   "execution_count": null,
   "metadata": {},
   "outputs": [],
   "source": [
    "def min_sum_of_products(array_one, array_two):\n",
    "    array_one.sort()\n",
    "    array_two.sort(reverse=True)\n",
    "    min_sum = sum(array_one[i] * array_two[i] for i in range(len(array_one)))\n",
    "    return min_sum\n",
    "\n",
    "array_one = [7, 5, 1, 4]\n",
    "array_two = [6, 17, 9, 3]\n",
    "min_sum = min_sum_of_products(array_one, array_two)\n",
    "print(\"Minimum sum of products:\", min_sum)\n"
   ]
  },
  {
   "cell_type": "code",
   "execution_count": null,
   "metadata": {},
   "outputs": [],
   "source": []
  }
 ],
 "metadata": {
  "language_info": {
   "name": "python"
  }
 },
 "nbformat": 4,
 "nbformat_minor": 2
}
